{
 "cells": [
  {
   "cell_type": "markdown",
   "metadata": {},
   "source": [
    "# Графика в Python. Занятие 1"
   ]
  },
  {
   "cell_type": "markdown",
   "metadata": {},
   "source": [
    "В данном курсе мы научимся применять свои умения в программировании и создам игру [Pong](https://en.wikipedia.org/wiki/Pong).\n",
    "\n",
    "Приступим.\n",
    "\n",
    "Для начала необходимо подключить библиотеку tkinter:"
   ]
  },
  {
   "cell_type": "code",
   "execution_count": 1,
   "metadata": {},
   "outputs": [],
   "source": [
    "from tkinter import *"
   ]
  },
  {
   "cell_type": "markdown",
   "metadata": {},
   "source": [
    "Нам надо где-то рисовать, для этого создадим окно. В нем укажем область, в которой и будем рисовать. Это окно имеет свои параметры, такие как размер, название и цвет. Создайте свое собственное поле для дальнейшего рисования:"
   ]
  },
  {
   "cell_type": "code",
   "execution_count": 25,
   "metadata": {},
   "outputs": [],
   "source": [
    "Win1=Tk()\n",
    "c = Canvas(Win1, width=800, height=500, bg='black')\n",
    "c.pack()\n",
    "\n",
    "# Ваш код должен быть расположен здесь.\n",
    "\n",
    "Win1.mainloop()"
   ]
  },
  {
   "cell_type": "markdown",
   "metadata": {},
   "source": [
    "Окно создали, давайте уже что-то нарисуем. В Tkinter есть несколько функций для рисования фигур и линий. из которых и составляются все изображения. У них в свою очередь очень много разных настроек от цвета, есть даже возможность рисовать пунктиром. "
   ]
  },
  {
   "cell_type": "code",
   "execution_count": 20,
   "metadata": {},
   "outputs": [],
   "source": [
    "Win1=Tk()\n",
    "c = Canvas(Win1, width=800, height=500, bg='black')\n",
    "c.pack()\n",
    "\n",
    "c.create_line(100, 180, 100, 60, fill='green', width=5, dash=(10,2))\n",
    "c.create_rectangle(60, 80, 140, 190, fill='yellow', outline='green', width=3)\n",
    "c.create_polygon(40, 110, 160, 110, 190, 180, 10, 180, fill='orange', outline='black')\n",
    "c.create_oval(10, 120, 190, 190, fill='grey70', outline='white')\n",
    "\n",
    "Win1.mainloop()"
   ]
  },
  {
   "cell_type": "markdown",
   "metadata": {},
   "source": [
    "А теперь попробуйте нарисовать что-то сами! К примеру, снежинку или дерево."
   ]
  },
  {
   "cell_type": "markdown",
   "metadata": {},
   "source": [
    "Ну вот мы и с рисованием разобрались. Мы уже говорили, \n",
    "что в этом году мы будем как настоящие программисты писать уже более серьезные программы, \n",
    "и так же как и они, мы не будем делать это за 1 раз. Игру мы будем создавать на протяжении всего курса.\n",
    "И прямо сейчас создадим небольшую ее часть. Давайте нарисуем игровое поле, у нас оно черно-белое, \n",
    "вы можете придумать что-то свое. Нарисуем мячики и ракетки на поле:"
   ]
  },
  {
   "cell_type": "code",
   "execution_count": 23,
   "metadata": {},
   "outputs": [],
   "source": [
    "Win1=Tk()\n",
    "a=400\n",
    "b=300\n",
    "c = Canvas(Win1, width=800, height=500, bg='black')\n",
    "c.pack()\n",
    "\n",
    "c.create_rectangle(45, 34, 755, 466, outline='white', width=8)\n",
    "c.create_line(400, 50, 400, 450, fill='white', width=8, dash=(10,2))\n",
    "point = c.create_rectangle(a, b, a+10, b+10, fill='red')\n",
    "lp = c.create_line(61, 220, 61, 220+60, fill='white', width=8)\n",
    "rp = c.create_line(739, 220, 739, 220+60, fill='white', width=8)\n",
    "\n",
    "Win1.mainloop()"
   ]
  },
  {
   "cell_type": "markdown",
   "metadata": {},
   "source": [
    "Не забывайте, что мы делаем игру, а для этого нужно хорошо разобраться с пройденным материалом. Обязательно попробуйте нарисовать что-то более сложное сами (к примеру, Губку Боба), у вас обязательно получится!"
   ]
  }
 ],
 "metadata": {
  "kernelspec": {
   "display_name": "Python 3",
   "language": "python",
   "name": "python3"
  },
  "language_info": {
   "codemirror_mode": {
    "name": "ipython",
    "version": 3
   },
   "file_extension": ".py",
   "mimetype": "text/x-python",
   "name": "python",
   "nbconvert_exporter": "python",
   "pygments_lexer": "ipython3",
   "version": "3.6.6"
  }
 },
 "nbformat": 4,
 "nbformat_minor": 2
}
