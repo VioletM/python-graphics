{
 "cells": [
  {
   "cell_type": "markdown",
   "metadata": {},
   "source": [
    "# Графика в Python. Занятие 7"
   ]
  },
  {
   "cell_type": "markdown",
   "metadata": {},
   "source": [
    "Цели занятия:\n",
    "\n",
    "- Изучить виджет Button.\n",
    "\n",
    "- Создать меню (без переходов)."
   ]
  },
  {
   "cell_type": "markdown",
   "metadata": {},
   "source": [
    "## Виджет Button"
   ]
  },
  {
   "cell_type": "markdown",
   "metadata": {},
   "source": [
    "Следующим виджетом после Label мы изучим Button. Создать его можно с помощью конструктора Button():"
   ]
  },
  {
   "cell_type": "code",
   "execution_count": null,
   "metadata": {},
   "outputs": [],
   "source": [
    "button = Button(text=\"Click on me\", width=15, height=3)"
   ]
  },
  {
   "cell_type": "markdown",
   "metadata": {},
   "source": [
    "Конструктор может принимать следующие (необязательные) значения:\n",
    "\n",
    "- bg: цвет фона клавиши.\n",
    "- fg: цвет текста клавиши.\n",
    "- command: объект функции, которая должна быть вызвана нажатием клавиши.\n",
    "\n",
    "К примеру, так мы можем задать цвет фона кнопки:"
   ]
  },
  {
   "cell_type": "code",
   "execution_count": null,
   "metadata": {},
   "outputs": [],
   "source": [
    "button[\"bg\"] = \"#000000\""
   ]
  },
  {
   "cell_type": "markdown",
   "metadata": {},
   "source": [
    "Или задать вызов функции при нажатии (зададим с помощью config):"
   ]
  },
  {
   "cell_type": "code",
   "execution_count": null,
   "metadata": {},
   "outputs": [],
   "source": [
    "def my_function():\n",
    "    print(\"Hey, 123!\")\n",
    "\n",
    "button.config(command=my_function)"
   ]
  },
  {
   "cell_type": "markdown",
   "metadata": {},
   "source": [
    "После этого, как и с Label, кнопку нужно разместить в окне:"
   ]
  },
  {
   "cell_type": "code",
   "execution_count": null,
   "metadata": {},
   "outputs": [],
   "source": [
    "button.place(x=100, y=200)"
   ]
  },
  {
   "cell_type": "markdown",
   "metadata": {},
   "source": [
    "Как вы поняли, кнопками мы будем управлять режимами игры."
   ]
  },
  {
   "cell_type": "markdown",
   "metadata": {},
   "source": [
    "## Меню игры"
   ]
  },
  {
   "cell_type": "markdown",
   "metadata": {},
   "source": [
    "В меню мы будем либо начинать игру, либо выходить из нее. В дальнейшем это меню можно будет расширить, к примеру, до настроек.\n",
    "\n",
    "Вызов меню/поля для игры будет происходить простым способом - мы юудем удалять все элементы и располагать нужные, в зависимости от режима. Чтобы изменить параметры холста, например, высоту и ширину, будем применять config к холсту. Чтобы удалить все элементы с холста canvas, нужно применить метод delete(\"all\"):"
   ]
  },
  {
   "cell_type": "code",
   "execution_count": null,
   "metadata": {},
   "outputs": [],
   "source": [
    "canvas.delete(\"all\")"
   ]
  },
  {
   "cell_type": "markdown",
   "metadata": {},
   "source": [
    "Если вам нужно удалить какие-либо виджеты с окна - нужно использовать метод destroy() к виджету. К примеру:"
   ]
  },
  {
   "cell_type": "code",
   "execution_count": null,
   "metadata": {},
   "outputs": [],
   "source": [
    "button.destroy()"
   ]
  },
  {
   "cell_type": "markdown",
   "metadata": {},
   "source": [
    "Из вышеперечисленного уже можно собрать меню для нашей игры."
   ]
  },
  {
   "cell_type": "markdown",
   "metadata": {},
   "source": [
    "## Задачи"
   ]
  },
  {
   "cell_type": "markdown",
   "metadata": {},
   "source": [
    "1. Создать новый файл, с помощью tkinter разместить холст. Сделать кнопку, при нажатии на которую будет меняться фон холста.\n",
    "\n",
    "2. В файле из задачи 1 добавить увеличение размеров хоста при нажатии на кнопку.\n",
    "\n",
    "3. Добавить в файл из второй задачи какой-либо объект (к примеру, круг) и какой-либо виджет (к примеру, метку Label). При нажатии на клавишу из задания 2 удалять эти объект и виджет.\n",
    "\n",
    "4. Создать файл для основной игры. На следующем занятии мы объединим его с основным файлом игры. В новом файле разместите холст черного цвета. На нем должны быть расположены 2 клавиши с названиями \"Play\" и \"Exit\", а также метка с текстом \"PONG\"."
   ]
  }
 ],
 "metadata": {
  "kernelspec": {
   "display_name": "Python 3",
   "language": "python",
   "name": "python3"
  },
  "language_info": {
   "codemirror_mode": {
    "name": "ipython",
    "version": 3
   },
   "file_extension": ".py",
   "mimetype": "text/x-python",
   "name": "python",
   "nbconvert_exporter": "python",
   "pygments_lexer": "ipython3",
   "version": "3.7.2"
  }
 },
 "nbformat": 4,
 "nbformat_minor": 2
}
