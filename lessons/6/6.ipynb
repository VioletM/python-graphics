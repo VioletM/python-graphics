{
  "nbformat": 4,
  "nbformat_minor": 0,
  "metadata": {
    "colab": {
      "name": "Untitled5.ipynb",
      "version": "0.3.2",
      "provenance": []
    },
    "kernelspec": {
      "name": "python3",
      "display_name": "Python 3"
    }
  },
  "cells": [
    {
      "metadata": {
        "id": "8dgm4FfNflOG",
        "colab_type": "text"
      },
      "cell_type": "markdown",
      "source": [
        "# Графика в Python. Занятие 5"
      ]
    },
    {
      "metadata": {
        "id": "cc5AGaZBfubI",
        "colab_type": "text"
      },
      "cell_type": "markdown",
      "source": [
        "\n",
        "\n",
        "\n",
        "\n",
        "* Счетчик очков\n",
        "* Label\n",
        "*  Размещение объектов на экране по координатам\n",
        "\n",
        "\n",
        "\n"
      ]
    },
    {
      "metadata": {
        "id": "YCewWd0WgGt3",
        "colab_type": "text"
      },
      "cell_type": "markdown",
      "source": [
        "На прошлых уроках мы научили наш мячик не вылетать с поля и отскакивать от ракеток, а также, возвращаться в центр поля, если он пересечет левую или правую границы. В принципе у нас уже почти есть игра, но пока в нее не так интересно играть, так как ни победителя, ни проигравшего в ней нет. Давайте исправим ситуацию. А именно введем счет."
      ]
    },
    {
      "metadata": {
        "id": "SJ1Na_TKmKRg",
        "colab_type": "text"
      },
      "cell_type": "markdown",
      "source": [
        "Этим мы будем заниматься весь сегодняшний урок.  //ФОТО1//"
      ]
    },
    {
      "metadata": {
        "id": "t-_-LOzCtWkZ",
        "colab_type": "text"
      },
      "cell_type": "markdown",
      "source": [
        "**Сечтчик**\n",
        "\n",
        "---\n",
        "\n"
      ]
    },
    {
      "metadata": {
        "id": "pm29AjHKoNH6",
        "colab_type": "text"
      },
      "cell_type": "markdown",
      "source": [
        "Начнем с того, что создадим пару глобальных переменных, в которых будем записывать очки игроков. Сделайте это сами."
      ]
    },
    {
      "metadata": {
        "id": "E4Rwli-ioUL1",
        "colab_type": "text"
      },
      "cell_type": "markdown",
      "source": [
        "Далее нам надо прописать изменение счета при достижении правой или левой границы. Добавим увеличение счетчика в том же месте, где делали перемещение в центр при достижении границ. Если вы прописали это действие одним условным оператором, то просто разнесите его на if и elif , если вы изначально сделали 2 отдельных if, то просто  добавьте в них счетчик."
      ]
    },
    {
      "metadata": {
        "id": "MjGNchHZoaP_",
        "colab_type": "code",
        "colab": {}
      },
      "cell_type": "code",
      "source": [
        "left_score=0\n",
        "right_score=0\n",
        "def motion():\n",
        "  global dx, dy, left_score, right_score\n",
        "  #\n",
        "  # Здесь остальной код функции motion\n",
        "  #\n",
        "  if c.coords(ball)[0] < a :\n",
        "    c.coords(ball, X_START - D / 2, Y_START - D / 2, X_START + D / 2, Y_START + D / 2)\n",
        "    right_score+=1\n",
        "  elif c.coords(ball)[2] > W - a:\n",
        "    c.coords(ball, X_START - D / 2, Y_START - D / 2, X_START + D / 2, Y_START + D / 2)\n",
        "    left_score+=1"
      ],
      "execution_count": 0,
      "outputs": []
    },
    {
      "metadata": {
        "id": "h1DHjyGbq1mq",
        "colab_type": "text"
      },
      "cell_type": "markdown",
      "source": [
        "Теперь если добавить после счетчиков print в поле вывода можно будет посмотреть, как меняется наш счет. "
      ]
    },
    {
      "metadata": {
        "id": "UhzngYyyrnb_",
        "colab_type": "code",
        "colab": {}
      },
      "cell_type": "code",
      "source": [
        "left_score=0\n",
        "right_score=0\n",
        "def motion():\n",
        "  global dx, dy, left_score, right_score\n",
        "  #\n",
        "  # Здесь остальной код функции motion\n",
        "  #\n",
        "  if c.coords(ball)[0] < a :\n",
        "    c.coords(ball, X_START - D / 2, Y_START - D / 2, X_START + D / 2, Y_START + D / 2)\n",
        "    right_score+=1\n",
        "    print(\"First payer's score^:\",right_score)\n",
        "  elif c.coords(ball)[2] > W - a:\n",
        "    c.coords(ball, X_START - D / 2, Y_START - D / 2, X_START + D / 2, Y_START + D / 2)\n",
        "    left_score+=1\n",
        "    print(\"Second payer's score^:\",left_score)"
      ],
      "execution_count": 0,
      "outputs": []
    },
    {
      "metadata": {
        "id": "sjJP8utPrnl2",
        "colab_type": "text"
      },
      "cell_type": "markdown",
      "source": [
        "Но это не очень красиво. Давайте сделаем так, чтобы счет был на основном экране. Для этого нам понадобится новый виджет Label. "
      ]
    },
    {
      "metadata": {
        "id": "dXpkgXGXsLy1",
        "colab_type": "text"
      },
      "cell_type": "markdown",
      "source": [
        "**Label – метка**\n",
        "\n",
        "---\n",
        "\n"
      ]
    },
    {
      "metadata": {
        "id": "8ClqavUCsiWT",
        "colab_type": "text"
      },
      "cell_type": "markdown",
      "source": [
        "Виджет Label просто отображает текст в окне и служит в основном для информационных целей (вывод сообщений, подпись других элементов интерфейса). Вокруг самого виджета создается квадратная рамка. Размер которой либо выставляется вручную, либо подгоняется автоматически под размер текста.\n",
        "Выглядит код виджета так:"
      ]
    },
    {
      "metadata": {
        "id": "qCyaJTWPty3O",
        "colab_type": "code",
        "colab": {}
      },
      "cell_type": "code",
      "source": [
        "name_of_label = Label(text=\"Машинное обучение\", font=\"Arial 15\", bg='#green')"
      ],
      "execution_count": 0,
      "outputs": []
    },
    {
      "metadata": {
        "id": "4Y4hy2GKuJxk",
        "colab_type": "text"
      },
      "cell_type": "markdown",
      "source": [
        "Здесь \"name_of_label\" -имя метки(которое мы придумываем сами). Label-сам виджет, в скобках которого указываются параметры, как окна самой метки, так и текста, внутри нее расположенного. У параметра text в скобках указывается, что мы хотим напечатать, \"font\" это шрифт, которым мы будем печатать, \"bg\" цвет фона метки, так же есть \"width\" и \"height\" позволяющие менять размер окна виджета, \"fg\" позволяющий менять цвет текста и многие другие параметры, которые вы можете сами отыскать в интернете."
      ]
    },
    {
      "metadata": {
        "id": "ufhWqW6ywWZD",
        "colab_type": "text"
      },
      "cell_type": "markdown",
      "source": [
        "Но создать сам виджет это пол беды, далее его надо разместить. Есть несколько методов для этого, но мы будем использовать  метод \".place(x=, y=)\", об остальных вы также можете прочесть в интернете. Перед точкой мы пишем название  объекта, с которым будем работать, далее слово place, которое всегда одинаковое. В скобках мы указываем координаты х и y верхнего левого угла рамки виджета. "
      ]
    },
    {
      "metadata": {
        "id": "hsL-wTpX0fET",
        "colab_type": "code",
        "colab": {}
      },
      "cell_type": "code",
      "source": [
        "from tkinter import *\n",
        "\n",
        "Win = Tk()\n",
        "c = Canvas(Win, width=300, height=300, bg='white')\n",
        "c.pack()\n",
        "score = Label(text=\"Машинное обучение\", font=\"Arial 15\", bg='green')\n",
        "score.place(x=70, y=70)"
      ],
      "execution_count": 0,
      "outputs": []
    },
    {
      "metadata": {
        "id": "Jreez5pZ0gNq",
        "colab_type": "text"
      },
      "cell_type": "markdown",
      "source": [
        "//ФОТО2//"
      ]
    },
    {
      "metadata": {
        "id": "ic_J1IAY0qp9",
        "colab_type": "text"
      },
      "cell_type": "markdown",
      "source": [
        "Так же у параметра text вместо строки может быть какая-то переменная"
      ]
    },
    {
      "metadata": {
        "id": "uSdrFt0g07-w",
        "colab_type": "code",
        "colab": {}
      },
      "cell_type": "code",
      "source": [
        "my_record=999999\n",
        "score = Label(text=my_record, font=\"Arial 15\", bg='green')"
      ],
      "execution_count": 0,
      "outputs": []
    },
    {
      "metadata": {
        "id": "UZWxPyjJ1D4Q",
        "colab_type": "text"
      },
      "cell_type": "markdown",
      "source": [
        "Теперь мы можем доделать наш счет. Создайте 2 виджета для счета и разместите их как показано на рисунке. Чтобы они отображали счет поместите в их параметры text наши переменные, за счет отвечающие. //ФОТО1//"
      ]
    },
    {
      "metadata": {
        "id": "z8Wfeavg1uNP",
        "colab_type": "text"
      },
      "cell_type": "markdown",
      "source": [
        "Небольшое дополнение. Виджет своей рамкой перекрывает рисунки. Таким образом  если за ним будет пролетать мячик, то его не будет видно для этого мы и размещаем наш счет над игровым полем."
      ]
    },
    {
      "metadata": {
        "id": "lyrfSDNk3g2X",
        "colab_type": "text"
      },
      "cell_type": "markdown",
      "source": [
        " **Задачи**\n",
        "\n",
        "---\n",
        "\n"
      ]
    },
    {
      "metadata": {
        "id": "9UT-aw9j3lN2",
        "colab_type": "text"
      },
      "cell_type": "markdown",
      "source": [
        "\n",
        "\n",
        "1.   У вас есть разбросанные в произвольном порядки строки  стихотворения А.С.Пушкина:\n",
        "\n",
        "> То, как зверь, она завоет,\n",
        "\n",
        "> То, как путник запоздалый,\n",
        "\n",
        "> Вдруг соломой зашумит,\n",
        "\n",
        "> Вихри снежные крутя;\n",
        "\n",
        "> Буря мглою небо кроет,\n",
        "\n",
        "> То заплачет, как дитя,\n",
        "\n",
        "> То по кровле обветшалой\n",
        "\n",
        "> К нам в окошко застучит.\n",
        "\n",
        "\n",
        "> Вам надо расположить их в парильном порядке, после чего при помощи виджета label расположить их лесенкой с шагом в 50 пикселей, начало лесенки вы можете посмотреть на рисунке //фото3// на блоках должны располагаться соответствующие строки стихотворения. \n",
        "\n",
        "\n",
        "2.  Программы зачастую помогают выполнять работу, с которой не может справиться человек. Например, посчитать количество столкновений, если мячика скачущего по коробке. Если его скорость мала, то это не проблема, хотя мы все еще можем сбиться при подсчете. Но когда скорость возрастает, мы просто не успеваем следить за всеми перемещениями. \n",
        "\n",
        "> Создайте поле как в нашей игре размером 200х200 пикселей. Поместите на него мячик и заставьте очень быстро перемещаться, сделав смещение в 3 пикселя, а запуск функции after каждые 15мс. И создайте счетчик, который будет подсчитывать количество ударов о стенки и выписывать их в поле вывода, как мы изначально сделали с нашим счетом.\n",
        "\n",
        "3. Вы сделали уже большую часть программы! Вы молодцы. Давите сообщим об этом всем. создайте холст 500х500 пикселей и разместите на ней надпись я молодец 200 раз. \n",
        "\n",
        "\n",
        "\n",
        "\n"
      ]
    }
  ]
}