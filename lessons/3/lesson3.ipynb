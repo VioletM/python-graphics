{
 "cells": [
  {
   "cell_type": "markdown",
   "metadata": {},
   "source": [
    "# Графика в Python. Занятие 3"
   ]
  },
  {
   "cell_type": "markdown",
   "metadata": {},
   "source": [
    "### Цели занятия:\n",
    "\n",
    "- Реализовать самостоятельное передвижение объекта.\n",
    "\n",
    "- Реализовать остановку объекта по достижении нужной координаты.\n",
    "\n",
    "- Разобраться с методом coords."
   ]
  },
  {
   "cell_type": "markdown",
   "metadata": {},
   "source": [
    "## Самостоятельное передвижение объектов\n",
    "\n",
    "Как уже было выяснено на прошлом занятии, к любому объекту в tkinter можно применить метод move(), заставляющий данный объект перемещаться на холсте. В данном случае мы хотим сделать так, чтобы в игре Pong мячик перемещался сам по правилам, которые мы создадим.\n",
    "\n",
    "Начнем с того, что научимся использовать новый метод, применяемый к окну. Он называется after(ms, fun) и может принимать 2 параметра - число ms (время в миллисекундах) и название функции fun() (которая вызовется через ms миллисекунд). after() позволяет планировать запуск функции через промежуток времени.\n",
    "\n",
    "В данном примере фраза \"Hello, world!\" напечатается через 5000 миллисекунд (или 5 секунд) после запуска программы:"
   ]
  },
  {
   "cell_type": "code",
   "execution_count": 9,
   "metadata": {},
   "outputs": [
    {
     "data": {
      "text/plain": [
       "'after#105'"
      ]
     },
     "execution_count": 9,
     "metadata": {},
     "output_type": "execute_result"
    }
   ],
   "source": [
    "MS = 5000\n",
    "\n",
    "def fun():\n",
    "    print('Hello, world!')\n",
    "\n",
    "Win.after(MS, motion)"
   ]
  },
  {
   "cell_type": "markdown",
   "metadata": {},
   "source": [
    "\n",
    "Приведем пример использования after():"
   ]
  },
  {
   "cell_type": "code",
   "execution_count": 8,
   "metadata": {},
   "outputs": [],
   "source": [
    "from tkinter import *\n",
    "\n",
    "## Размеры холста:\n",
    "W = 600  # ширина\n",
    "H = 400  # высота\n",
    "\n",
    "Win=Tk()\n",
    "Win.title('Самостоятельное передвижение объектов')\n",
    "c = Canvas(Win, width=W, height=H, bg='white')\n",
    "c.pack()\n",
    "\n",
    "## Создадим прямоугольник\n",
    "rect = c.create_rectangle(50, 50, 100, 150, fill='blue')\n",
    "\n",
    "## Создадим функцию, при вызове которой rect переместится вправо на 5 пикселей\n",
    "def motion():\n",
    "    c.move(rect, 5, 0)\n",
    "    Win.after(100, motion)  # зацикливаем программу на перемещение\n",
    "\n",
    "## Будем перемещать rect каждые 100 мс (т.е. 10 раз в секунду, т.к. 1 секунда = 1000 миллисекунд)\n",
    "Win.after(100, motion)\n",
    "\n",
    "Win.mainloop()"
   ]
  },
  {
   "cell_type": "markdown",
   "metadata": {},
   "source": [
    "### Остановка объектов\n",
    "\n",
    "Справившись с движением, нужно подумать от том, когда нужно остановиться. Допустим, у нас есть поле, и мы не хотим, чтобы объект его покинул. Для этого в функции движения объекта, которая вызывается таймером after(), нужно создать условие на перемещение.\n",
    "\n",
    "К примеру, мы хотим, чтобы прямоугольник двигался слева направо, а когда достиг стенки окна - двигался обратно (и так далее). Тогда нужно держать текущую координату прямоугольника и изменять ее на столько, на сколько мы подвинули прямоугольник. Реализация для примера выше:"
   ]
  },
  {
   "cell_type": "code",
   "execution_count": 24,
   "metadata": {},
   "outputs": [],
   "source": [
    "from tkinter import *\n",
    "\n",
    "## Размеры холста:\n",
    "W = 200  # ширина\n",
    "H = 200  # высота\n",
    "\n",
    "Win=Tk()\n",
    "c = Canvas(Win, width=W, height=H, bg='white')\n",
    "c.pack()\n",
    "\n",
    "x = 10\n",
    "speed = 5\n",
    "\n",
    "## Создадим прямоугольник\n",
    "rect = c.create_rectangle(10, 50, 50, 150, fill='blue')\n",
    "\n",
    "def motion():\n",
    "    ## Делаем x и speed глобальными переменными,\n",
    "    ## чтобы мы могли иметь к ним доступ даже в функциях\n",
    "    global x, speed\n",
    "    \n",
    "    if x < 0 or x > W - 40:\n",
    "        speed = -speed\n",
    "\n",
    "    c.move(rect, speed, 0)\n",
    "    x = x + speed\n",
    "    Win.after(50, motion)\n",
    "\n",
    "Win.after(50, motion)  # первоначальный запуск\n",
    "\n",
    "Win.mainloop()"
   ]
  },
  {
   "cell_type": "markdown",
   "metadata": {},
   "source": [
    "## Метод coords()\n"
   ]
  },
  {
   "cell_type": "markdown",
   "metadata": {},
   "source": [
    "Держать переменные, отвечающие за расположение объектов, бывает неудобно по той причине, что это захламляет код. Оказывается, tkinter уже держит эти переменные и обновляет их в зависимости от наших действий. Для получения доступа к этим координатам используют метод coords(), применяемый к холсту. К примеру,"
   ]
  },
  {
   "cell_type": "code",
   "execution_count": 26,
   "metadata": {},
   "outputs": [
    {
     "ename": "TclError",
     "evalue": "invalid command name \".!canvas\"",
     "output_type": "error",
     "traceback": [
      "\u001b[1;31m---------------------------------------------------------------------------\u001b[0m",
      "\u001b[1;31mTclError\u001b[0m                                  Traceback (most recent call last)",
      "\u001b[1;32m<ipython-input-26-9a6f3912fb79>\u001b[0m in \u001b[0;36m<module>\u001b[1;34m()\u001b[0m\n\u001b[1;32m----> 1\u001b[1;33m \u001b[0mc\u001b[0m\u001b[1;33m.\u001b[0m\u001b[0mcoords\u001b[0m\u001b[1;33m(\u001b[0m\u001b[0mrect\u001b[0m\u001b[1;33m)\u001b[0m  \u001b[1;31m# возвратит координаты rect в виде массива\u001b[0m\u001b[1;33m\u001b[0m\u001b[0m\n\u001b[0m\u001b[0;32m      2\u001b[0m \u001b[0mc\u001b[0m\u001b[1;33m.\u001b[0m\u001b[0mcoords\u001b[0m\u001b[1;33m(\u001b[0m\u001b[0mrect\u001b[0m\u001b[1;33m,\u001b[0m \u001b[1;36m50\u001b[0m\u001b[1;33m,\u001b[0m \u001b[1;36m50\u001b[0m\u001b[1;33m,\u001b[0m \u001b[1;36m150\u001b[0m\u001b[1;33m,\u001b[0m \u001b[1;36m250\u001b[0m\u001b[1;33m)\u001b[0m  \u001b[1;31m# передвинет rect и возвратит координаты\u001b[0m\u001b[1;33m\u001b[0m\u001b[0m\n",
      "\u001b[1;32mC:\\ProgramData\\Anaconda3\\lib\\tkinter\\__init__.py\u001b[0m in \u001b[0;36mcoords\u001b[1;34m(self, *args)\u001b[0m\n\u001b[0;32m   2464\u001b[0m         return [self.tk.getdouble(x) for x in\n\u001b[0;32m   2465\u001b[0m                            self.tk.splitlist(\n\u001b[1;32m-> 2466\u001b[1;33m                    self.tk.call((self._w, 'coords') + args))]\n\u001b[0m\u001b[0;32m   2467\u001b[0m     \u001b[1;32mdef\u001b[0m \u001b[0m_create\u001b[0m\u001b[1;33m(\u001b[0m\u001b[0mself\u001b[0m\u001b[1;33m,\u001b[0m \u001b[0mitemType\u001b[0m\u001b[1;33m,\u001b[0m \u001b[0margs\u001b[0m\u001b[1;33m,\u001b[0m \u001b[0mkw\u001b[0m\u001b[1;33m)\u001b[0m\u001b[1;33m:\u001b[0m \u001b[1;31m# Args: (val, val, ..., cnf={})\u001b[0m\u001b[1;33m\u001b[0m\u001b[0m\n\u001b[0;32m   2468\u001b[0m         \u001b[1;34m\"\"\"Internal function.\"\"\"\u001b[0m\u001b[1;33m\u001b[0m\u001b[0m\n",
      "\u001b[1;31mTclError\u001b[0m: invalid command name \".!canvas\""
     ]
    }
   ],
   "source": [
    "c.coords(rect)  # возвратит координаты rect в виде массива\n",
    "c.coords(rect, 50, 50, 150, 250)  # пересоздаст rect с новыми параметрами"
   ]
  },
  {
   "cell_type": "markdown",
   "metadata": {},
   "source": [
    "И тогда нашу программу можно переписать проще:"
   ]
  },
  {
   "cell_type": "code",
   "execution_count": 27,
   "metadata": {},
   "outputs": [],
   "source": [
    "from tkinter import *\n",
    "\n",
    "## Размеры холста:\n",
    "W = 200  # ширина\n",
    "H = 200  # высота\n",
    "\n",
    "Win=Tk()\n",
    "c = Canvas(Win, width=W, height=H, bg='white')\n",
    "c.pack()\n",
    "\n",
    "speed = 5\n",
    "\n",
    "## Создадим прямоугольник\n",
    "rect = c.create_rectangle(10, 50, 50, 150, fill='blue')\n",
    "\n",
    "def motion():\n",
    "    ## Делаем x и speed глобальными переменными,\n",
    "    ## чтобы мы могли иметь к ним доступ даже в функциях\n",
    "    global speed\n",
    "    \n",
    "    if c.coords(rect)[0] < 0 or c.coords(rect)[0] > W - 40:\n",
    "        speed = -speed\n",
    "\n",
    "    c.move(rect, speed, 0)\n",
    "    Win.after(50, motion)\n",
    "\n",
    "Win.after(50, motion)  # первоначальный запуск\n",
    "\n",
    "Win.mainloop()"
   ]
  },
  {
   "cell_type": "markdown",
   "metadata": {},
   "source": [
    "Таким образом, можно, к примеру, следить за столкновениями нескольких объектов, не держа их координаты, а лишь проверяя условие, используя coords()."
   ]
  },
  {
   "cell_type": "markdown",
   "metadata": {},
   "source": [
    "## Pong\n",
    "\n",
    "На прошлом занятии были написаны функции, перемещающие ракетки по вертикали.\n",
    "\n",
    "**Задание на сегодня:** измените игру Pong так, чтобы перемещение ракеток происходило в пределах поля, используя coords()."
   ]
  },
  {
   "cell_type": "markdown",
   "metadata": {},
   "source": [
    "## Задачи\n",
    "\n",
    "1. Используя полученные знания, напишите программу, которая будет передвигать объект (квадрат) из одного угла в другой по диагонали (*указание:* окно должно быть квадратным, а объект не должен выскакивать за холст).\n",
    "\n",
    "2. Дополните программу из п.1 и п.2 таким образом, чтобы при нажатии правой кнопки мыши квадрат перемещался на исходную позицию (в угол). *Указание:* используйте coords().\n",
    "\n",
    "3. Дополните программу из пункта 1 так, чтобы цвет квадрата менялся при столкновении.\n",
    "\n",
    "4. (Дополнительно.) Напишите программу, в которой квадрат будет перемещаться змейкой: сначала слева направо, а когда достигнет правого края - опуститься и начнет двигаться влево, и так далее."
   ]
  }
 ],
 "metadata": {
  "kernelspec": {
   "display_name": "Python 3",
   "language": "python",
   "name": "python3"
  },
  "language_info": {
   "codemirror_mode": {
    "name": "ipython",
    "version": 3
   },
   "file_extension": ".py",
   "mimetype": "text/x-python",
   "name": "python",
   "nbconvert_exporter": "python",
   "pygments_lexer": "ipython3",
   "version": "3.6.6"
  }
 },
 "nbformat": 4,
 "nbformat_minor": 2
}
