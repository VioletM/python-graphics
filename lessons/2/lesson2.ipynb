{
 "cells": [
  {
   "cell_type": "markdown",
   "metadata": {},
   "source": [
    "# Графика в Python. Занятие 2"
   ]
  },
  {
   "cell_type": "markdown",
   "metadata": {},
   "source": [
    "Цели занятия:\n",
    "\n",
    "* Метод bind() и move()\n",
    "\n",
    "* Перемещение объектов в tkinter\n",
    "\n",
    "* Pong: перемещение ракеток"
   ]
  },
  {
   "cell_type": "markdown",
   "metadata": {},
   "source": [
    "В данном занятии мы научимся использовать клавиатуру для передвижения объектов.\n",
    "Но сначала давайте вспомним прошлый урок. В нем мы научились рисовать простые объекты, такие как линии, квадраты и т.д.\n",
    "\n",
    "Нарисуем круг:"
   ]
  },
  {
   "cell_type": "code",
   "execution_count": 3,
   "metadata": {},
   "outputs": [
    {
     "ename": "NameError",
     "evalue": "name 'c' is not defined",
     "output_type": "error",
     "traceback": [
      "\u001b[0;31m---------------------------------------------------------------------------\u001b[0m",
      "\u001b[0;31mNameError\u001b[0m                                 Traceback (most recent call last)",
      "\u001b[0;32m<ipython-input-3-7d803c2b64f4>\u001b[0m in \u001b[0;36m<module>\u001b[0;34m\u001b[0m\n\u001b[0;32m----> 1\u001b[0;31m \u001b[0mc\u001b[0m\u001b[0;34m.\u001b[0m\u001b[0mcreate_oval\u001b[0m\u001b[0;34m(\u001b[0m\u001b[0;36m50\u001b[0m\u001b[0;34m,\u001b[0m \u001b[0;36m50\u001b[0m\u001b[0;34m,\u001b[0m \u001b[0;36m100\u001b[0m\u001b[0;34m,\u001b[0m \u001b[0;36m100\u001b[0m\u001b[0;34m,\u001b[0m\u001b[0mfill\u001b[0m\u001b[0;34m=\u001b[0m\u001b[0;34m'red'\u001b[0m\u001b[0;34m)\u001b[0m\u001b[0;34m\u001b[0m\u001b[0;34m\u001b[0m\u001b[0m\n\u001b[0m",
      "\u001b[0;31mNameError\u001b[0m: name 'c' is not defined"
     ]
    }
   ],
   "source": [
    "c.create_oval(50, 50, 100, 100,fill='red')"
   ]
  },
  {
   "cell_type": "markdown",
   "metadata": {},
   "source": [
    "В таком случае это просто рисунок. С которым нельзя взаимодействовать, но если присвоить его переменной:"
   ]
  },
  {
   "cell_type": "code",
   "execution_count": null,
   "metadata": {},
   "outputs": [],
   "source": [
    "ball= c.create_oval(50, 50, 100, 100,fill='red')"
   ]
  },
  {
   "cell_type": "markdown",
   "metadata": {},
   "source": [
    "Теперь к этому кругу можно обращаться дальше в коде, взаимодействовать с ним.\n",
    "\n",
    "Мы будем перемещать его по нашему игровому полю, для этого нам понадобятся два метода move() и bind().\n",
    "Сначала рассмотрим первый. Move() перемещает выбранный объект на заданное количество пикселей по осям “х” и “у”. Выглядит он так:"
   ]
  },
  {
   "cell_type": "code",
   "execution_count": null,
   "metadata": {},
   "outputs": [],
   "source": [
    "c.move(ball, x,y)"
   ]
  },
  {
   "cell_type": "markdown",
   "metadata": {},
   "source": [
    "Здесь ”с” это холст на котором расположен наш объект, “ball” непосредственно сам объект, ”x”-смещение нашего объекта по оси х, а “y”-смещение по оси у."
   ]
  },
  {
   "cell_type": "markdown",
   "metadata": {},
   "source": [
    "Метод bind() связывает между собой объект, событие и действие. Например, объект – наш “мяч”, событие – клик кнопки клавиатуры, действие – перемещение “мячика”. Действие, зачастую, оформляют как функцию, которая вызываются при наступлении события."
   ]
  },
  {
   "cell_type": "markdown",
   "metadata": {},
   "source": [
    "Как это выглядит:"
   ]
  },
  {
   "cell_type": "code",
   "execution_count": null,
   "metadata": {},
   "outputs": [],
   "source": [
    "Win1.bind('<Button-1>', function"
   ]
  },
  {
   "cell_type": "markdown",
   "metadata": {},
   "source": [
    "Здесь “Win1” это НЕ холст на котором расположен наш объект, а окно tkinter в котором создан холст canvas. Первым аргументом в скобках указывается нажатие какой кнопки (в данном примере это '<Button-1>', левая кнопка мыши) приведет к выполнению функции заданной вторым аргументом(в данном примере это какая-то функция function)"
   ]
  },
  {
   "cell_type": "markdown",
   "metadata": {},
   "source": [
    "А теперь соединим эти два метода и заставим “мячик” двигаться вправо при нажатии стрелки вправо"
   ]
  },
  {
   "cell_type": "code",
   "execution_count": null,
   "metadata": {},
   "outputs": [],
   "source": [
    "from tkinter import*\n",
    "\n",
    "Win1=Tk()\n",
    "\n",
    "c = Canvas(Win1, width=800, height=500, bg='#292727')\n",
    "\n",
    "c.pack()\n",
    "\n",
    "ball= c.create_oval(50, 50, 100, 100,fill='red')\n",
    "\n",
    "def move_right(event):\n",
    "\n",
    "  c.move(ball, 10, 0)\n",
    "\n",
    "Win1.bind('<Right>', move_right)"
   ]
  },
  {
   "cell_type": "markdown",
   "metadata": {},
   "source": [
    "Здесь мы создаем круг при помощи функции create_oval и присваиваем его переменной ball. Далее инициируем функцию move_right, при вызове которой будет срабатывать метод move() и наш круг будет перемещаться. Важно во всех функциях который вызываются при помощи bind() в аргументе нужно указывать слово event:"
   ]
  },
  {
   "cell_type": "code",
   "execution_count": null,
   "metadata": {},
   "outputs": [],
   "source": [
    "def move_right(event):"
   ]
  },
  {
   "cell_type": "markdown",
   "metadata": {},
   "source": [
    "И последней строкой мы создаем метод bind() который будет реагировать на нажатии стрелки влево и вызывать функцию move_right."
   ]
  },
  {
   "cell_type": "markdown",
   "metadata": {},
   "source": [
    "Чтобы закрепить пройденный материал доработайте нашу предыдущую программу так, чтобы шарик смог двигаться во всех 4 направлениях. Подсказка: для каждого направления должна быть отдельная функция."
   ]
  },
  {
   "cell_type": "markdown",
   "metadata": {},
   "source": [
    "Теперь давайте вернемся к нашей игре. На прошлом занятии мы сделали игровое поле с ракетками и мячиком. Задание на сегодняшний урок заставить ракетки двигаться"
   ]
  },
  {
   "cell_type": "markdown",
   "metadata": {},
   "source": [
    "Задачи:"
   ]
  },
  {
   "cell_type": "markdown",
   "metadata": {},
   "source": [
    "1)Напишите программу, меняющую цвет холста с красного на белый при нажатии левой кнопки мыши.\n",
    "\n",
    "Для внесения изменений в уже созданные объекты есть функция config(). Принцип работы прост. Указываете объект который хотите изменить и параметр."
   ]
  },
  {
   "cell_type": "code",
   "execution_count": 4,
   "metadata": {},
   "outputs": [
    {
     "ename": "NameError",
     "evalue": "name 'c' is not defined",
     "output_type": "error",
     "traceback": [
      "\u001b[0;31m---------------------------------------------------------------------------\u001b[0m",
      "\u001b[0;31mNameError\u001b[0m                                 Traceback (most recent call last)",
      "\u001b[0;32m<ipython-input-4-6dc2af731652>\u001b[0m in \u001b[0;36m<module>\u001b[0;34m\u001b[0m\n\u001b[0;32m----> 1\u001b[0;31m \u001b[0mc\u001b[0m\u001b[0;34m.\u001b[0m\u001b[0mconfig\u001b[0m\u001b[0;34m(\u001b[0m\u001b[0mbg\u001b[0m\u001b[0;34m=\u001b[0m\u001b[0;34m'white'\u001b[0m\u001b[0;34m)\u001b[0m\u001b[0;34m\u001b[0m\u001b[0;34m\u001b[0m\u001b[0m\n\u001b[0m",
      "\u001b[0;31mNameError\u001b[0m: name 'c' is not defined"
     ]
    }
   ],
   "source": [
    "c.config(bg='white')"
   ]
  },
  {
   "cell_type": "markdown",
   "metadata": {},
   "source": [
    "В данном случае мы меняем цвет фона у холста."
   ]
  },
  {
   "cell_type": "markdown",
   "metadata": {},
   "source": [
    "2)Напишите программу уменьшающую размер холста в 2 раза при нажатии правой кнопки мыши"
   ]
  },
  {
   "cell_type": "markdown",
   "metadata": {},
   "source": [
    "3)Напишите программу изменяющую размер холста таким образом:\n",
    "\n",
    "При нажатии кнопки 1-делает размер холста 100х100\n",
    "\n",
    "При нажатии кнопки 2-делает размер холста 200х200\n",
    "\n",
    "При нажатии кнопки 3-делает размер холста 300х300\n",
    "\n",
    "При нажатии кнопки 4-делает размер холста 400х400\n",
    "\n",
    "При нажатии кнопки 5-делает размер холста 500х500"
   ]
  },
  {
   "cell_type": "markdown",
   "metadata": {},
   "source": [
    "4)Дополните предыдущую программу так, чтобы кроме размера изменялся и цвет для каждой кнопки свой."
   ]
  }
 ],
 "metadata": {
  "kernelspec": {
   "display_name": "Python 3",
   "language": "python",
   "name": "python3"
  },
  "language_info": {
   "codemirror_mode": {
    "name": "ipython",
    "version": 3
   },
   "file_extension": ".py",
   "mimetype": "text/x-python",
   "name": "python",
   "nbconvert_exporter": "python",
   "pygments_lexer": "ipython3",
   "version": "3.6.7"
  }
 },
 "nbformat": 4,
 "nbformat_minor": 2
}
