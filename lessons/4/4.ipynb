{
  "nbformat": 4,
  "nbformat_minor": 0,
  "metadata": {
    "colab": {
      "name": "Untitled3.ipynb",
      "version": "0.3.2",
      "provenance": []
    },
    "kernelspec": {
      "name": "python3",
      "display_name": "Python 3"
    }
  },
  "cells": [
    {
      "metadata": {
        "id": "_ZwZWPnSqdZV",
        "colab_type": "text"
      },
      "cell_type": "markdown",
      "source": [
        "# Графика в Python. Занятие 4"
      ]
    },
    {
      "metadata": {
        "id": "CHxSSxlKtDPI",
        "colab_type": "text"
      },
      "cell_type": "markdown",
      "source": [
        "\n",
        "Цели занятия:\n",
        "\n",
        "*   Реализовать самостоятельное передвижение объекта\n",
        "*   Реализовать отскок от стенок   \n",
        "\n",
        "\n",
        "\n",
        "\n",
        "\n"
      ]
    },
    {
      "metadata": {
        "id": "8T6aYsvSxZlk",
        "colab_type": "text"
      },
      "cell_type": "markdown",
      "source": [
        "# Самостоятельное передвижение объектов"
      ]
    },
    {
      "metadata": {
        "id": "uvMbKx7qxcIE",
        "colab_type": "text"
      },
      "cell_type": "markdown",
      "source": [
        "Как уже было выяснено на прошлом занятии, к любому объекту в tkinter можно применить метод move(), заставляющий данный объект перемещаться на холсте. В данном случае мы хотим сделать так, чтобы в игре Pong мячик перемещался сам по правилам, которые мы создадим.\n",
        "\n",
        "Начнем с того, что научимся использовать новый метод, применяемый к окну. Он называется after(ms, fun) и может принимать 2 параметра - число ms (время в миллисекундах) и название функции fun() (которая вызовется через ms миллисекунд). after() позволяет планировать запуск функции через промежуток времени.\n",
        "\n",
        "В данном примере фраза \"Hello, world!\" напечатается через 5000 миллисекунд (или 5 секунд) после запуска программы:"
      ]
    },
    {
      "metadata": {
        "id": "EyDNT6k9xe1D",
        "colab_type": "code",
        "colab": {}
      },
      "cell_type": "code",
      "source": [
        "MS = 5000\n",
        "\n",
        "def fun():\n",
        "    print('Hello, world!')\n",
        "\n",
        "Win.after(MS, motion)"
      ],
      "execution_count": 0,
      "outputs": []
    },
    {
      "metadata": {
        "id": "5WexAEORxh5f",
        "colab_type": "text"
      },
      "cell_type": "markdown",
      "source": [
        "\n",
        "\n",
        "Приведем пример использования after():\n"
      ]
    },
    {
      "metadata": {
        "id": "KtWuDM47xkMM",
        "colab_type": "code",
        "colab": {}
      },
      "cell_type": "code",
      "source": [
        "from tkinter import *\n",
        "\n",
        "## Размеры холста:\n",
        "W = 600  # ширина\n",
        "H = 400  # высота\n",
        "\n",
        "Win=Tk()\n",
        "Win.title('Самостоятельное передвижение объектов')\n",
        "c = Canvas(Win, width=W, height=H, bg='white')\n",
        "c.pack()\n",
        "\n",
        "## Создадим прямоугольник\n",
        "rect = c.create_rectangle(50, 50, 100, 150, fill='blue')\n",
        "\n",
        "## Создадим функцию, при вызове которой rect переместится вправо на 5 пикселей\n",
        "def motion():\n",
        "    c.move(rect, 5, 0)\n",
        "    Win.after(100, motion)  # зацикливаем программу на перемещение\n",
        "\n",
        "## Будем перемещать rect каждые 100 мс (т.е. 10 раз в секунду, т.к. 1 секунда = 1000 миллисекунд)\n",
        "Win.after(100, motion)\n",
        "\n",
        "Win.mainloop()"
      ],
      "execution_count": 0,
      "outputs": []
    },
    {
      "metadata": {
        "id": "qn9E_B75yLOq",
        "colab_type": "text"
      },
      "cell_type": "markdown",
      "source": [
        "Добавьте в свой сновной код с игрой функцию перемещения для мячика."
      ]
    },
    {
      "metadata": {
        "id": "g-Evil1Ktt9u",
        "colab_type": "text"
      },
      "cell_type": "markdown",
      "source": [
        "# Отскок от стенок"
      ]
    },
    {
      "metadata": {
        "id": "w39Ag0FNLfWX",
        "colab_type": "text"
      },
      "cell_type": "markdown",
      "source": [
        "На прошлом уроке мы узнали как работатет функция coords(). С ее помощью мы научились останавливать ракетки по достижению границ экрана. Модифицируем нашу функцию перемещения мячика так, чтобы он не выходил за границы экрана."
      ]
    },
    {
      "metadata": {
        "id": "ar0EXeEiw0GW",
        "colab_type": "text"
      },
      "cell_type": "markdown",
      "source": [
        "Введем две глобальныен переменные \"Х\" и \"У\". Они будут отвечать за смещение по сям икс и игрек соответственно."
      ]
    },
    {
      "metadata": {
        "id": "46DYSi1yyeQ6",
        "colab_type": "code",
        "colab": {}
      },
      "cell_type": "code",
      "source": [
        "x = -5\n",
        "y = 0\n",
        "def motion():\n",
        "    global x, y\n",
        "    if c.coords(ball)[0]>30:\n",
        "        c.move(ball, x, y)\n",
        "    Win.after(10, motion)"
      ],
      "execution_count": 0,
      "outputs": []
    },
    {
      "metadata": {
        "id": "rExcXFfq0VdI",
        "colab_type": "text"
      },
      "cell_type": "markdown",
      "source": [
        "Мы сделаи так, чтобы наш мячик останавливался по достижении левой границы.\n",
        "Сделайте сами остановку по достижению верней, нижней и правой границ.\n"
      ]
    },
    {
      "metadata": {
        "id": "Vj7Y8luU0jNw",
        "colab_type": "text"
      },
      "cell_type": "markdown",
      "source": [
        "Молодцы. Теперь давайте сделаем так, чтобы по достижении левой границы координата \"Х\" менялась на противоположную."
      ]
    },
    {
      "metadata": {
        "id": "c08do6i11Gqs",
        "colab_type": "code",
        "colab": {}
      },
      "cell_type": "code",
      "source": [
        "x = -5\n",
        "y = 0\n",
        "def motion():\n",
        "    global x, y\n",
        "    if c.coords(ball)[0]<30:\n",
        "        x=-x\n",
        "    c.move(ball, x, y)\n",
        "    Win.after(10, motion)"
      ],
      "execution_count": 0,
      "outputs": []
    },
    {
      "metadata": {
        "id": "jjDR2GFV1q63",
        "colab_type": "text"
      },
      "cell_type": "markdown",
      "source": [
        "Что мы изменили? Если раньше мячик двигался, только пока выполнялось условие, что он не перешел левой границы рамки, то теперь он двигается вегда, а при достижении границы меняет направление движения на противоположное\n",
        "\n",
        "Самостоятельно сделайте так, чтобы мячик при соприкосновении с верхней и нижней границей менял координату \"У\" на противоположную, а при соприкосновеннии с правой границей, координату \"Х\"."
      ]
    },
    {
      "metadata": {
        "id": "tiqjFKlV2h5k",
        "colab_type": "text"
      },
      "cell_type": "markdown",
      "source": [
        "Поздравляю, теперь ваш мячик никуда не улетает с поля!!!"
      ]
    },
    {
      "metadata": {
        "id": "65PksUby2qIA",
        "colab_type": "text"
      },
      "cell_type": "markdown",
      "source": [
        "# Задачи"
      ]
    },
    {
      "metadata": {
        "id": "ntLlXyK02swK",
        "colab_type": "text"
      },
      "cell_type": "markdown",
      "source": [
        "1)Дополните программу про отскок от стенок так, чтобы мячик при косании стенок менял цвет.\n",
        "2)Дополните программу из п.1 так, чтобы он менял еще и размер.\n",
        "3)Самостоятельно при помощи ресурса \"internet\" изучите принцип работы функции random()\n",
        "4)Дополните программу из п.2 так, чтобы при столкновении мячик перемещался в произвольную точку плоскости.\n",
        "5)Дополните программу из п.2! так, чтобы отскок был случайным, используйте функцию random()\n",
        "6)дополните программу из п.5 так, чтобы создавался не 1 мячик, а 20. И все они удовлетворяли  усолвиям п.5"
      ]
    }
  ]
}