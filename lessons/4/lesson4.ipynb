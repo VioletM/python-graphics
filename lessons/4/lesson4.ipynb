{
 "cells": [
  {
   "cell_type": "markdown",
   "metadata": {
    "colab_type": "text",
    "id": "_ZwZWPnSqdZV"
   },
   "source": [
    "# Графика в Python. Занятие 4"
   ]
  },
  {
   "cell_type": "markdown",
   "metadata": {
    "colab_type": "text",
    "id": "CHxSSxlKtDPI"
   },
   "source": [
    "\n",
    "Цели занятия:\n",
    "\n",
    "*   Реализовать самостоятельное передвижение объекта\n",
    "*   Реализовать отскок от стенок   \n",
    "\n",
    "\n",
    "\n",
    "\n",
    "\n"
   ]
  },
  {
   "cell_type": "markdown",
   "metadata": {
    "colab_type": "text",
    "id": "8T6aYsvSxZlk"
   },
   "source": [
    "# Самостоятельное передвижение объектов"
   ]
  },
  {
   "cell_type": "markdown",
   "metadata": {
    "colab_type": "text",
    "id": "uvMbKx7qxcIE"
   },
   "source": [
    "Как уже было выяснено на прошлом занятии, к любому объекту в tkinter можно применить метод move(), заставляющий данный объект перемещаться на холсте. В данном случае мы хотим сделать так, чтобы в игре Pong мячик перемещался сам по правилам, которые мы создадим.\n",
    "\n",
    "Начнем с того, что научимся использовать новый метод, применяемый к окну. Он называется after(ms, fun) и может принимать 2 параметра - число ms (время в миллисекундах) и название функции fun() (которая вызовется через ms миллисекунд). after() позволяет планировать запуск функции через промежуток времени.\n",
    "\n",
    "В данном примере фраза \"Hello, world!\" напечатается через 5000 миллисекунд (или 5 секунд) после запуска программы:"
   ]
  },
  {
   "cell_type": "code",
   "execution_count": 0,
   "metadata": {
    "colab": {},
    "colab_type": "code",
    "id": "EyDNT6k9xe1D"
   },
   "outputs": [],
   "source": [
    "MS = 5000\n",
    "\n",
    "def fun():\n",
    "    print('Hello, world!')\n",
    "\n",
    "Win.after(MS, motion)"
   ]
  },
  {
   "cell_type": "markdown",
   "metadata": {
    "colab_type": "text",
    "id": "5WexAEORxh5f"
   },
   "source": [
    "\n",
    "\n",
    "Приведем пример использования after():\n"
   ]
  },
  {
   "cell_type": "code",
   "execution_count": 0,
   "metadata": {
    "colab": {},
    "colab_type": "code",
    "id": "KtWuDM47xkMM"
   },
   "outputs": [],
   "source": [
    "from tkinter import *\n",
    "\n",
    "## Размеры холста:\n",
    "W = 600  # ширина\n",
    "H = 400  # высота\n",
    "\n",
    "Win=Tk()\n",
    "Win.title('Самостоятельное передвижение объектов')\n",
    "c = Canvas(Win, width=W, height=H, bg='white')\n",
    "c.pack()\n",
    "\n",
    "## Создадим прямоугольник\n",
    "rect = c.create_rectangle(50, 50, 100, 150, fill='blue')\n",
    "\n",
    "## Создадим функцию, при вызове которой rect переместится вправо на 5 пикселей\n",
    "def motion():\n",
    "    c.move(rect, 5, 0)\n",
    "    Win.after(100, motion)  # зацикливаем программу на перемещение\n",
    "\n",
    "## Будем перемещать rect каждые 100 мс (т.е. 10 раз в секунду, т.к. 1 секунда = 1000 миллисекунд)\n",
    "Win.after(100, motion)\n",
    "\n",
    "Win.mainloop()"
   ]
  },
  {
   "cell_type": "markdown",
   "metadata": {
    "colab_type": "text",
    "id": "qn9E_B75yLOq"
   },
   "source": [
    "Добавьте в свой сновной код с игрой функцию перемещения для мячика."
   ]
  },
  {
   "cell_type": "markdown",
   "metadata": {
    "colab_type": "text",
    "id": "g-Evil1Ktt9u"
   },
   "source": [
    "# Отскок от стенок"
   ]
  },
  {
   "cell_type": "markdown",
   "metadata": {
    "colab_type": "text",
    "id": "w39Ag0FNLfWX"
   },
   "source": [
    "На прошлом уроке мы узнали как работатет функция coords(). С ее помощью мы научились останавливать ракетки по достижению границ экрана. Модифицируем нашу функцию перемещения мячика так, чтобы он не выходил за границы экрана."
   ]
  },
  {
   "cell_type": "markdown",
   "metadata": {
    "colab_type": "text",
    "id": "ar0EXeEiw0GW"
   },
   "source": [
    "Введем две глобальныен переменные \"Х\" и \"У\". Они будут отвечать за смещение по сям икс и игрек соответственно."
   ]
  },
  {
   "cell_type": "code",
   "execution_count": 0,
   "metadata": {
    "colab": {},
    "colab_type": "code",
    "id": "46DYSi1yyeQ6"
   },
   "outputs": [],
   "source": [
    "x = -5\n",
    "y = 0\n",
    "def motion():\n",
    "    global x, y\n",
    "    if c.coords(ball)[0]>30:\n",
    "        c.move(ball, x, y)\n",
    "    Win.after(10, motion)"
   ]
  },
  {
   "cell_type": "markdown",
   "metadata": {
    "colab_type": "text",
    "id": "rExcXFfq0VdI"
   },
   "source": [
    "Мы сделаи так, чтобы наш мячик останавливался по достижении левой границы.\n",
    "Сделайте сами остановку по достижению верней, нижней и правой границ.\n"
   ]
  },
  {
   "cell_type": "markdown",
   "metadata": {
    "colab_type": "text",
    "id": "Vj7Y8luU0jNw"
   },
   "source": [
    "Молодцы. Теперь давайте сделаем так, чтобы по достижении левой границы координата \"Х\" менялась на противоположную."
   ]
  },
  {
   "cell_type": "code",
   "execution_count": 0,
   "metadata": {
    "colab": {},
    "colab_type": "code",
    "id": "c08do6i11Gqs"
   },
   "outputs": [],
   "source": [
    "x = -5\n",
    "y = 0\n",
    "def motion():\n",
    "    global x, y\n",
    "    if c.coords(ball)[0]<30:\n",
    "        x=-x\n",
    "    c.move(ball, x, y)\n",
    "    Win.after(10, motion)"
   ]
  },
  {
   "cell_type": "markdown",
   "metadata": {
    "colab_type": "text",
    "id": "jjDR2GFV1q63"
   },
   "source": [
    "Что мы изменили? Если раньше мячик двигался, только пока выполнялось условие, что он не перешел левой границы рамки, то теперь он двигается вегда, а при достижении границы меняет направление движения на противоположное\n",
    "\n",
    "Самостоятельно сделайте так, чтобы мячик при соприкосновении с верхней и нижней границей менял координату \"У\" на противоположную, а при соприкосновеннии с правой границей, координату \"Х\"."
   ]
  },
  {
   "cell_type": "markdown",
   "metadata": {
    "colab_type": "text",
    "id": "tiqjFKlV2h5k"
   },
   "source": [
    "Поздравляю, теперь ваш мячик никуда не улетает с поля!!!"
   ]
  },
  {
   "cell_type": "markdown",
   "metadata": {
    "colab_type": "text",
    "id": "65PksUby2qIA"
   },
   "source": [
    "# Задачи"
   ]
  },
  {
   "cell_type": "markdown",
   "metadata": {
    "colab_type": "text",
    "id": "ntLlXyK02swK"
   },
   "source": [
    "1)Дополните программу про отскок от стенок так, чтобы мячик при косании стенок менял цвет.\n",
    "2)Дополните программу из п.1 так, чтобы он менял еще и размер.\n",
    "3)Самостоятельно при помощи ресурса \"internet\" изучите принцип работы функции random()\n",
    "4)Дополните программу из п.2 так, чтобы при столкновении мячик перемещался в произвольную точку плоскости.\n",
    "5)Дополните программу из п.2! так, чтобы отскок был случайным, используйте функцию random()\n",
    "6)дополните программу из п.5 так, чтобы создавался не 1 мячик, а 20. И все они удовлетворяли  усолвиям п.5"
   ]
  }
 ],
 "metadata": {
  "colab": {
   "name": "Untitled3.ipynb",
   "provenance": [],
   "version": "0.3.2"
  },
  "kernelspec": {
   "display_name": "Python 3",
   "language": "python",
   "name": "python3"
  },
  "language_info": {
   "codemirror_mode": {
    "name": "ipython",
    "version": 3
   },
   "file_extension": ".py",
   "mimetype": "text/x-python",
   "name": "python",
   "nbconvert_exporter": "python",
   "pygments_lexer": "ipython3",
   "version": "3.7.2"
  }
 },
 "nbformat": 4,
 "nbformat_minor": 1
}
